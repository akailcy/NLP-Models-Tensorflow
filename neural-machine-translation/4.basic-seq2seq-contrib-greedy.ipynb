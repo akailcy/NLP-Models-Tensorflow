{
 "cells": [
  {
   "cell_type": "code",
   "execution_count": 1,
   "metadata": {},
   "outputs": [],
   "source": [
    "import os\n",
    "os.environ['CUDA_VISIBLE_DEVICES'] = '3'"
   ]
  },
  {
   "cell_type": "code",
   "execution_count": 2,
   "metadata": {},
   "outputs": [
    {
     "name": "stderr",
     "output_type": "stream",
     "text": [
      "/home/husein/.local/lib/python3.6/site-packages/tensorflow/python/framework/dtypes.py:516: FutureWarning: Passing (type, 1) or '1type' as a synonym of type is deprecated; in a future version of numpy, it will be understood as (type, (1,)) / '(1,)type'.\n",
      "  _np_qint8 = np.dtype([(\"qint8\", np.int8, 1)])\n",
      "/home/husein/.local/lib/python3.6/site-packages/tensorflow/python/framework/dtypes.py:517: FutureWarning: Passing (type, 1) or '1type' as a synonym of type is deprecated; in a future version of numpy, it will be understood as (type, (1,)) / '(1,)type'.\n",
      "  _np_quint8 = np.dtype([(\"quint8\", np.uint8, 1)])\n",
      "/home/husein/.local/lib/python3.6/site-packages/tensorflow/python/framework/dtypes.py:518: FutureWarning: Passing (type, 1) or '1type' as a synonym of type is deprecated; in a future version of numpy, it will be understood as (type, (1,)) / '(1,)type'.\n",
      "  _np_qint16 = np.dtype([(\"qint16\", np.int16, 1)])\n",
      "/home/husein/.local/lib/python3.6/site-packages/tensorflow/python/framework/dtypes.py:519: FutureWarning: Passing (type, 1) or '1type' as a synonym of type is deprecated; in a future version of numpy, it will be understood as (type, (1,)) / '(1,)type'.\n",
      "  _np_quint16 = np.dtype([(\"quint16\", np.uint16, 1)])\n",
      "/home/husein/.local/lib/python3.6/site-packages/tensorflow/python/framework/dtypes.py:520: FutureWarning: Passing (type, 1) or '1type' as a synonym of type is deprecated; in a future version of numpy, it will be understood as (type, (1,)) / '(1,)type'.\n",
      "  _np_qint32 = np.dtype([(\"qint32\", np.int32, 1)])\n",
      "/home/husein/.local/lib/python3.6/site-packages/tensorflow/python/framework/dtypes.py:525: FutureWarning: Passing (type, 1) or '1type' as a synonym of type is deprecated; in a future version of numpy, it will be understood as (type, (1,)) / '(1,)type'.\n",
      "  np_resource = np.dtype([(\"resource\", np.ubyte, 1)])\n",
      "/home/husein/.local/lib/python3.6/site-packages/tensorboard/compat/tensorflow_stub/dtypes.py:541: FutureWarning: Passing (type, 1) or '1type' as a synonym of type is deprecated; in a future version of numpy, it will be understood as (type, (1,)) / '(1,)type'.\n",
      "  _np_qint8 = np.dtype([(\"qint8\", np.int8, 1)])\n",
      "/home/husein/.local/lib/python3.6/site-packages/tensorboard/compat/tensorflow_stub/dtypes.py:542: FutureWarning: Passing (type, 1) or '1type' as a synonym of type is deprecated; in a future version of numpy, it will be understood as (type, (1,)) / '(1,)type'.\n",
      "  _np_quint8 = np.dtype([(\"quint8\", np.uint8, 1)])\n",
      "/home/husein/.local/lib/python3.6/site-packages/tensorboard/compat/tensorflow_stub/dtypes.py:543: FutureWarning: Passing (type, 1) or '1type' as a synonym of type is deprecated; in a future version of numpy, it will be understood as (type, (1,)) / '(1,)type'.\n",
      "  _np_qint16 = np.dtype([(\"qint16\", np.int16, 1)])\n",
      "/home/husein/.local/lib/python3.6/site-packages/tensorboard/compat/tensorflow_stub/dtypes.py:544: FutureWarning: Passing (type, 1) or '1type' as a synonym of type is deprecated; in a future version of numpy, it will be understood as (type, (1,)) / '(1,)type'.\n",
      "  _np_quint16 = np.dtype([(\"quint16\", np.uint16, 1)])\n",
      "/home/husein/.local/lib/python3.6/site-packages/tensorboard/compat/tensorflow_stub/dtypes.py:545: FutureWarning: Passing (type, 1) or '1type' as a synonym of type is deprecated; in a future version of numpy, it will be understood as (type, (1,)) / '(1,)type'.\n",
      "  _np_qint32 = np.dtype([(\"qint32\", np.int32, 1)])\n",
      "/home/husein/.local/lib/python3.6/site-packages/tensorboard/compat/tensorflow_stub/dtypes.py:550: FutureWarning: Passing (type, 1) or '1type' as a synonym of type is deprecated; in a future version of numpy, it will be understood as (type, (1,)) / '(1,)type'.\n",
      "  np_resource = np.dtype([(\"resource\", np.ubyte, 1)])\n"
     ]
    }
   ],
   "source": [
    "import numpy as np\n",
    "import tensorflow as tf"
   ]
  },
  {
   "cell_type": "code",
   "execution_count": 3,
   "metadata": {},
   "outputs": [],
   "source": [
    "import json\n",
    "\n",
    "with open('train-test.json') as fopen:\n",
    "    dataset = json.load(fopen)\n",
    "    \n",
    "with open('dictionary.json') as fopen:\n",
    "    dictionary = json.load(fopen)"
   ]
  },
  {
   "cell_type": "code",
   "execution_count": 4,
   "metadata": {},
   "outputs": [],
   "source": [
    "train_X = dataset['train_X']\n",
    "train_Y = dataset['train_Y']\n",
    "test_X = dataset['test_X']\n",
    "test_Y = dataset['test_Y']"
   ]
  },
  {
   "cell_type": "code",
   "execution_count": 5,
   "metadata": {},
   "outputs": [
    {
     "data": {
      "text/plain": [
       "dict_keys(['from', 'to'])"
      ]
     },
     "execution_count": 5,
     "metadata": {},
     "output_type": "execute_result"
    }
   ],
   "source": [
    "dictionary.keys()"
   ]
  },
  {
   "cell_type": "code",
   "execution_count": 6,
   "metadata": {},
   "outputs": [],
   "source": [
    "dictionary_from = dictionary['from']['dictionary']\n",
    "rev_dictionary_from = dictionary['from']['rev_dictionary']\n",
    "\n",
    "dictionary_to = dictionary['to']['dictionary']\n",
    "rev_dictionary_to = dictionary['to']['rev_dictionary']"
   ]
  },
  {
   "cell_type": "code",
   "execution_count": 7,
   "metadata": {},
   "outputs": [],
   "source": [
    "GO = dictionary_from['GO']\n",
    "PAD = dictionary_from['PAD']\n",
    "EOS = dictionary_from['EOS']\n",
    "UNK = dictionary_from['UNK']"
   ]
  },
  {
   "cell_type": "code",
   "execution_count": 8,
   "metadata": {},
   "outputs": [
    {
     "data": {
      "text/plain": [
       "'Rachel Pike : The science behind a climate headline EOS'"
      ]
     },
     "execution_count": 8,
     "metadata": {},
     "output_type": "execute_result"
    }
   ],
   "source": [
    "for i in range(len(train_X)):\n",
    "    train_X[i] += ' EOS'\n",
    "    \n",
    "train_X[0]"
   ]
  },
  {
   "cell_type": "code",
   "execution_count": 9,
   "metadata": {},
   "outputs": [
    {
     "data": {
      "text/plain": [
       "'How can I speak in <NUM> minutes about the bonds of women over three generations , about how the astonishing strength of those bonds took hold in the life of a four - year - old girl huddled with her young sister , her mother and her grandmother for five days and nights in a small boat in the China Sea more than <NUM> years ago , bonds that took hold in the life of that small girl and never let go - - that small girl now living in San Francisco and speaking to you today ? EOS'"
      ]
     },
     "execution_count": 9,
     "metadata": {},
     "output_type": "execute_result"
    }
   ],
   "source": [
    "for i in range(len(test_X)):\n",
    "    test_X[i] += ' EOS'\n",
    "    \n",
    "test_X[0]"
   ]
  },
  {
   "cell_type": "code",
   "execution_count": 10,
   "metadata": {},
   "outputs": [],
   "source": [
    "def pad_second_dim(x, desired_size):\n",
    "    padding = tf.tile([[[0.0]]], tf.stack([tf.shape(x)[0], desired_size - tf.shape(x)[1], tf.shape(x)[2]], 0))\n",
    "    return tf.concat([x, padding], 1)\n",
    "\n",
    "class Translator:\n",
    "    def __init__(self, size_layer, num_layers, embedded_size,\n",
    "                 from_dict_size, to_dict_size, learning_rate, batch_size):\n",
    "        \n",
    "        def cells(reuse=False):\n",
    "            return tf.nn.rnn_cell.BasicRNNCell(size_layer,reuse=reuse)\n",
    "        \n",
    "        self.X = tf.placeholder(tf.int32, [None, None])\n",
    "        self.Y = tf.placeholder(tf.int32, [None, None])\n",
    "        self.X_seq_len = tf.count_nonzero(self.X, 1, dtype=tf.int32)\n",
    "        self.Y_seq_len = tf.count_nonzero(self.Y, 1, dtype=tf.int32)\n",
    "        batch_size = tf.shape(self.X)[0]\n",
    "        \n",
    "        encoder_embedding = tf.Variable(tf.random_uniform([from_dict_size, embedded_size], -1, 1))\n",
    "        decoder_embedding = tf.Variable(tf.random_uniform([to_dict_size, embedded_size], -1, 1))\n",
    "        \n",
    "        _, encoder_state = tf.nn.dynamic_rnn(\n",
    "            cell = tf.nn.rnn_cell.MultiRNNCell([cells() for _ in range(num_layers)]), \n",
    "            inputs = tf.nn.embedding_lookup(encoder_embedding, self.X),\n",
    "            sequence_length = self.X_seq_len,\n",
    "            dtype = tf.float32)\n",
    "        main = tf.strided_slice(self.Y, [0, 0], [batch_size, -1], [1, 1])\n",
    "        decoder_input = tf.concat([tf.fill([batch_size, 1], GO), main], 1)\n",
    "        dense = tf.layers.Dense(to_dict_size)\n",
    "        decoder_cells = tf.nn.rnn_cell.MultiRNNCell([cells() for _ in range(num_layers)])\n",
    "        \n",
    "        training_helper = tf.contrib.seq2seq.TrainingHelper(\n",
    "                inputs = tf.nn.embedding_lookup(decoder_embedding, decoder_input),\n",
    "                sequence_length = self.Y_seq_len,\n",
    "                time_major = False)\n",
    "        training_decoder = tf.contrib.seq2seq.BasicDecoder(\n",
    "                cell = decoder_cells,\n",
    "                helper = training_helper,\n",
    "                initial_state = encoder_state,\n",
    "                output_layer = dense)\n",
    "        training_decoder_output, _, _ = tf.contrib.seq2seq.dynamic_decode(\n",
    "                decoder = training_decoder,\n",
    "                impute_finished = True,\n",
    "                maximum_iterations = tf.reduce_max(self.Y_seq_len))\n",
    "        self.training_logits = training_decoder_output.rnn_output\n",
    "        \n",
    "        predicting_helper = tf.contrib.seq2seq.GreedyEmbeddingHelper(\n",
    "                embedding = decoder_embedding,\n",
    "                start_tokens = tf.tile(tf.constant([GO], dtype=tf.int32), [batch_size]),\n",
    "                end_token = EOS)\n",
    "        predicting_decoder = tf.contrib.seq2seq.BasicDecoder(\n",
    "                cell = decoder_cells,\n",
    "                helper = predicting_helper,\n",
    "                initial_state = encoder_state,\n",
    "                output_layer = dense)\n",
    "        predicting_decoder_output, _, _ = tf.contrib.seq2seq.dynamic_decode(\n",
    "                decoder = predicting_decoder,\n",
    "                impute_finished = True,\n",
    "                maximum_iterations = 2 * tf.reduce_max(self.X_seq_len))\n",
    "        self.predicting_ids = predicting_decoder_output.sample_id\n",
    "        \n",
    "        masks = tf.sequence_mask(self.Y_seq_len, tf.reduce_max(self.Y_seq_len), dtype=tf.float32)\n",
    "        self.cost = tf.contrib.seq2seq.sequence_loss(logits = self.training_logits,\n",
    "                                                     targets = self.Y,\n",
    "                                                     weights = masks)\n",
    "        self.optimizer = tf.train.AdamOptimizer(learning_rate = learning_rate).minimize(self.cost)\n",
    "        y_t = tf.argmax(self.training_logits,axis=2)\n",
    "        y_t = tf.cast(y_t, tf.int32)\n",
    "        self.prediction = tf.boolean_mask(y_t, masks)\n",
    "        mask_label = tf.boolean_mask(self.Y, masks)\n",
    "        correct_pred = tf.equal(self.prediction, mask_label)\n",
    "        correct_index = tf.cast(correct_pred, tf.float32)\n",
    "        self.accuracy = tf.reduce_mean(tf.cast(correct_pred, tf.float32))"
   ]
  },
  {
   "cell_type": "code",
   "execution_count": 11,
   "metadata": {},
   "outputs": [],
   "source": [
    "size_layer = 512\n",
    "num_layers = 2\n",
    "embedded_size = 256\n",
    "learning_rate = 1e-3\n",
    "batch_size = 128\n",
    "epoch = 20"
   ]
  },
  {
   "cell_type": "code",
   "execution_count": 12,
   "metadata": {},
   "outputs": [
    {
     "name": "stderr",
     "output_type": "stream",
     "text": [
      "WARNING: Logging before flag parsing goes to stderr.\n",
      "W0902 10:37:50.396917 139850844325696 deprecation.py:506] From /home/husein/.local/lib/python3.6/site-packages/tensorflow/python/util/deprecation.py:507: calling count_nonzero (from tensorflow.python.ops.math_ops) with axis is deprecated and will be removed in a future version.\n",
      "Instructions for updating:\n",
      "reduction_indices is deprecated, use axis instead\n",
      "W0902 10:37:50.430243 139850844325696 deprecation.py:323] From <ipython-input-10-69bf39d9ea4f>:10: BasicRNNCell.__init__ (from tensorflow.python.ops.rnn_cell_impl) is deprecated and will be removed in a future version.\n",
      "Instructions for updating:\n",
      "This class is equivalent as tf.keras.layers.SimpleRNNCell, and will be replaced by that in Tensorflow 2.0.\n",
      "W0902 10:37:50.431915 139850844325696 deprecation.py:323] From <ipython-input-10-69bf39d9ea4f>:22: MultiRNNCell.__init__ (from tensorflow.python.ops.rnn_cell_impl) is deprecated and will be removed in a future version.\n",
      "Instructions for updating:\n",
      "This class is equivalent as tf.keras.layers.StackedRNNCells, and will be replaced by that in Tensorflow 2.0.\n",
      "W0902 10:37:50.436314 139850844325696 deprecation.py:323] From <ipython-input-10-69bf39d9ea4f>:25: dynamic_rnn (from tensorflow.python.ops.rnn) is deprecated and will be removed in a future version.\n",
      "Instructions for updating:\n",
      "Please use `keras.layers.RNN(cell)`, which is equivalent to this API\n",
      "W0902 10:37:50.877376 139850844325696 deprecation.py:506] From /home/husein/.local/lib/python3.6/site-packages/tensorflow/python/ops/init_ops.py:1251: calling VarianceScaling.__init__ (from tensorflow.python.ops.init_ops) with dtype is deprecated and will be removed in a future version.\n",
      "Instructions for updating:\n",
      "Call initializer instance with the dtype argument instead of passing it to the constructor\n",
      "W0902 10:37:50.889265 139850844325696 deprecation.py:506] From /home/husein/.local/lib/python3.6/site-packages/tensorflow/python/ops/rnn_cell_impl.py:459: calling Zeros.__init__ (from tensorflow.python.ops.init_ops) with dtype is deprecated and will be removed in a future version.\n",
      "Instructions for updating:\n",
      "Call initializer instance with the dtype argument instead of passing it to the constructor\n",
      "W0902 10:37:51.034368 139850844325696 deprecation.py:323] From /home/husein/.local/lib/python3.6/site-packages/tensorflow/python/ops/rnn.py:244: add_dispatch_support.<locals>.wrapper (from tensorflow.python.ops.array_ops) is deprecated and will be removed in a future version.\n",
      "Instructions for updating:\n",
      "Use tf.where in 2.0, which has the same broadcast rule as np.where\n",
      "W0902 10:37:51.763631 139850844325696 lazy_loader.py:50] \n",
      "The TensorFlow contrib module will not be included in TensorFlow 2.0.\n",
      "For more information, please see:\n",
      "  * https://github.com/tensorflow/community/blob/master/rfcs/20180907-contrib-sunset.md\n",
      "  * https://github.com/tensorflow/addons\n",
      "  * https://github.com/tensorflow/io (for I/O related ops)\n",
      "If you depend on functionality not listed there, please file an issue.\n",
      "\n"
     ]
    }
   ],
   "source": [
    "tf.reset_default_graph()\n",
    "sess = tf.InteractiveSession()\n",
    "model = Translator(size_layer, num_layers, embedded_size, len(dictionary_from), \n",
    "                len(dictionary_to), learning_rate,batch_size)\n",
    "sess.run(tf.global_variables_initializer())"
   ]
  },
  {
   "cell_type": "code",
   "execution_count": 13,
   "metadata": {},
   "outputs": [],
   "source": [
    "def str_idx(corpus, dic):\n",
    "    X = []\n",
    "    for i in corpus:\n",
    "        ints = []\n",
    "        for k in i.split():\n",
    "            ints.append(dic.get(k,UNK))\n",
    "        X.append(ints)\n",
    "    return X\n",
    "\n",
    "def pad_sentence_batch(sentence_batch, pad_int):\n",
    "    padded_seqs = []\n",
    "    seq_lens = []\n",
    "    max_sentence_len = max([len(sentence) for sentence in sentence_batch])\n",
    "    for sentence in sentence_batch:\n",
    "        padded_seqs.append(sentence + [pad_int] * (max_sentence_len - len(sentence)))\n",
    "        seq_lens.append(len(sentence))\n",
    "    return padded_seqs, seq_lens"
   ]
  },
  {
   "cell_type": "code",
   "execution_count": 14,
   "metadata": {},
   "outputs": [],
   "source": [
    "train_X = str_idx(train_X, dictionary_from)\n",
    "test_X = str_idx(test_X, dictionary_from)\n",
    "train_Y = str_idx(train_Y, dictionary_to)\n",
    "test_Y = str_idx(test_Y, dictionary_to)"
   ]
  },
  {
   "cell_type": "code",
   "execution_count": 15,
   "metadata": {},
   "outputs": [
    {
     "name": "stderr",
     "output_type": "stream",
     "text": [
      "minibatch loop: 100%|██████████| 1042/1042 [05:37<00:00,  3.09it/s, accuracy=0.118, cost=5.76] \n",
      "minibatch loop: 100%|██████████| 23/23 [00:03<00:00,  6.70it/s, accuracy=0.175, cost=5.27]\n",
      "minibatch loop:   0%|          | 0/1042 [00:00<?, ?it/s]"
     ]
    },
    {
     "name": "stdout",
     "output_type": "stream",
     "text": [
      "epoch 1, training avg loss 6.053971, training avg acc 0.082107\n",
      "epoch 1, testing avg loss 5.324556, testing avg acc 0.152646\n"
     ]
    },
    {
     "name": "stderr",
     "output_type": "stream",
     "text": [
      "minibatch loop: 100%|██████████| 1042/1042 [05:36<00:00,  3.10it/s, accuracy=0.188, cost=5.05]\n",
      "minibatch loop: 100%|██████████| 23/23 [00:03<00:00,  6.87it/s, accuracy=0.215, cost=4.84]\n",
      "minibatch loop:   0%|          | 0/1042 [00:00<?, ?it/s]"
     ]
    },
    {
     "name": "stdout",
     "output_type": "stream",
     "text": [
      "epoch 2, training avg loss 4.912388, training avg acc 0.196447\n",
      "epoch 2, testing avg loss 4.737615, testing avg acc 0.215985\n"
     ]
    },
    {
     "name": "stderr",
     "output_type": "stream",
     "text": [
      "minibatch loop: 100%|██████████| 1042/1042 [05:36<00:00,  3.10it/s, accuracy=0.213, cost=4.67]\n",
      "minibatch loop: 100%|██████████| 23/23 [00:03<00:00,  6.92it/s, accuracy=0.198, cost=4.69]\n",
      "minibatch loop:   0%|          | 0/1042 [00:00<?, ?it/s]"
     ]
    },
    {
     "name": "stdout",
     "output_type": "stream",
     "text": [
      "epoch 3, training avg loss 4.518934, training avg acc 0.230342\n",
      "epoch 3, testing avg loss 4.562802, testing avg acc 0.225339\n"
     ]
    },
    {
     "name": "stderr",
     "output_type": "stream",
     "text": [
      "minibatch loop: 100%|██████████| 1042/1042 [05:36<00:00,  3.10it/s, accuracy=0.23, cost=4.39] \n",
      "minibatch loop: 100%|██████████| 23/23 [00:03<00:00,  6.92it/s, accuracy=0.226, cost=4.64]\n",
      "minibatch loop:   0%|          | 0/1042 [00:00<?, ?it/s]"
     ]
    },
    {
     "name": "stdout",
     "output_type": "stream",
     "text": [
      "epoch 4, training avg loss 4.316509, training avg acc 0.245301\n",
      "epoch 4, testing avg loss 4.477951, testing avg acc 0.237584\n"
     ]
    },
    {
     "name": "stderr",
     "output_type": "stream",
     "text": [
      "minibatch loop: 100%|██████████| 1042/1042 [05:36<00:00,  3.10it/s, accuracy=0.256, cost=4.11]\n",
      "minibatch loop: 100%|██████████| 23/23 [00:03<00:00,  6.90it/s, accuracy=0.203, cost=4.58]\n",
      "minibatch loop:   0%|          | 0/1042 [00:00<?, ?it/s]"
     ]
    },
    {
     "name": "stdout",
     "output_type": "stream",
     "text": [
      "epoch 5, training avg loss 4.175539, training avg acc 0.256459\n",
      "epoch 5, testing avg loss 4.429749, testing avg acc 0.243252\n"
     ]
    },
    {
     "name": "stderr",
     "output_type": "stream",
     "text": [
      "minibatch loop: 100%|██████████| 1042/1042 [05:35<00:00,  3.10it/s, accuracy=0.261, cost=3.87]\n",
      "minibatch loop: 100%|██████████| 23/23 [00:03<00:00,  6.92it/s, accuracy=0.215, cost=4.58]\n",
      "minibatch loop:   0%|          | 0/1042 [00:00<?, ?it/s]"
     ]
    },
    {
     "name": "stdout",
     "output_type": "stream",
     "text": [
      "epoch 6, training avg loss 4.069971, training avg acc 0.265229\n",
      "epoch 6, testing avg loss 4.413609, testing avg acc 0.244927\n"
     ]
    },
    {
     "name": "stderr",
     "output_type": "stream",
     "text": [
      "minibatch loop: 100%|██████████| 1042/1042 [05:36<00:00,  3.10it/s, accuracy=0.278, cost=3.7] \n",
      "minibatch loop: 100%|██████████| 23/23 [00:03<00:00,  6.95it/s, accuracy=0.22, cost=4.58] \n",
      "minibatch loop:   0%|          | 0/1042 [00:00<?, ?it/s]"
     ]
    },
    {
     "name": "stdout",
     "output_type": "stream",
     "text": [
      "epoch 7, training avg loss 3.993729, training avg acc 0.270755\n",
      "epoch 7, testing avg loss 4.422013, testing avg acc 0.242420\n"
     ]
    },
    {
     "name": "stderr",
     "output_type": "stream",
     "text": [
      "minibatch loop: 100%|██████████| 1042/1042 [05:36<00:00,  3.10it/s, accuracy=0.283, cost=3.62]\n",
      "minibatch loop: 100%|██████████| 23/23 [00:03<00:00,  6.92it/s, accuracy=0.215, cost=4.56]\n",
      "minibatch loop:   0%|          | 0/1042 [00:00<?, ?it/s]"
     ]
    },
    {
     "name": "stdout",
     "output_type": "stream",
     "text": [
      "epoch 8, training avg loss 3.932503, training avg acc 0.276367\n",
      "epoch 8, testing avg loss 4.417103, testing avg acc 0.246614\n"
     ]
    },
    {
     "name": "stderr",
     "output_type": "stream",
     "text": [
      "minibatch loop: 100%|██████████| 1042/1042 [05:36<00:00,  3.10it/s, accuracy=0.312, cost=3.48]\n",
      "minibatch loop: 100%|██████████| 23/23 [00:03<00:00,  6.90it/s, accuracy=0.215, cost=4.67]\n",
      "minibatch loop:   0%|          | 0/1042 [00:00<?, ?it/s]"
     ]
    },
    {
     "name": "stdout",
     "output_type": "stream",
     "text": [
      "epoch 9, training avg loss 3.882398, training avg acc 0.281375\n",
      "epoch 9, testing avg loss 4.423276, testing avg acc 0.247590\n"
     ]
    },
    {
     "name": "stderr",
     "output_type": "stream",
     "text": [
      "minibatch loop: 100%|██████████| 1042/1042 [05:35<00:00,  3.11it/s, accuracy=0.338, cost=3.29]\n",
      "minibatch loop: 100%|██████████| 23/23 [00:03<00:00,  6.95it/s, accuracy=0.198, cost=4.64]\n",
      "minibatch loop:   0%|          | 0/1042 [00:00<?, ?it/s]"
     ]
    },
    {
     "name": "stdout",
     "output_type": "stream",
     "text": [
      "epoch 10, training avg loss 3.836034, training avg acc 0.285949\n",
      "epoch 10, testing avg loss 4.419407, testing avg acc 0.248623\n"
     ]
    },
    {
     "name": "stderr",
     "output_type": "stream",
     "text": [
      "minibatch loop: 100%|██████████| 1042/1042 [05:35<00:00,  3.11it/s, accuracy=0.352, cost=3.17]\n",
      "minibatch loop: 100%|██████████| 23/23 [00:03<00:00,  6.89it/s, accuracy=0.203, cost=4.59]\n",
      "minibatch loop:   0%|          | 0/1042 [00:00<?, ?it/s]"
     ]
    },
    {
     "name": "stdout",
     "output_type": "stream",
     "text": [
      "epoch 11, training avg loss 3.798077, training avg acc 0.289666\n",
      "epoch 11, testing avg loss 4.413572, testing avg acc 0.250763\n"
     ]
    },
    {
     "name": "stderr",
     "output_type": "stream",
     "text": [
      "minibatch loop: 100%|██████████| 1042/1042 [05:37<00:00,  3.09it/s, accuracy=0.373, cost=3.1] \n",
      "minibatch loop: 100%|██████████| 23/23 [00:03<00:00,  6.85it/s, accuracy=0.215, cost=4.61]\n",
      "minibatch loop:   0%|          | 0/1042 [00:00<?, ?it/s]"
     ]
    },
    {
     "name": "stdout",
     "output_type": "stream",
     "text": [
      "epoch 12, training avg loss 3.760315, training avg acc 0.293373\n",
      "epoch 12, testing avg loss 4.430881, testing avg acc 0.249786\n"
     ]
    },
    {
     "name": "stderr",
     "output_type": "stream",
     "text": [
      "minibatch loop: 100%|██████████| 1042/1042 [05:37<00:00,  3.09it/s, accuracy=0.386, cost=3.01]\n",
      "minibatch loop: 100%|██████████| 23/23 [00:03<00:00,  6.79it/s, accuracy=0.226, cost=4.66]\n",
      "minibatch loop:   0%|          | 0/1042 [00:00<?, ?it/s]"
     ]
    },
    {
     "name": "stdout",
     "output_type": "stream",
     "text": [
      "epoch 13, training avg loss 3.737885, training avg acc 0.295704\n",
      "epoch 13, testing avg loss 4.438071, testing avg acc 0.251573\n"
     ]
    },
    {
     "name": "stderr",
     "output_type": "stream",
     "text": [
      "minibatch loop: 100%|██████████| 1042/1042 [05:37<00:00,  3.08it/s, accuracy=0.392, cost=2.95]\n",
      "minibatch loop: 100%|██████████| 23/23 [00:03<00:00,  6.85it/s, accuracy=0.232, cost=4.73]\n",
      "minibatch loop:   0%|          | 0/1042 [00:00<?, ?it/s]"
     ]
    },
    {
     "name": "stdout",
     "output_type": "stream",
     "text": [
      "epoch 14, training avg loss 3.710586, training avg acc 0.298460\n",
      "epoch 14, testing avg loss 4.453537, testing avg acc 0.251079\n"
     ]
    },
    {
     "name": "stderr",
     "output_type": "stream",
     "text": [
      "minibatch loop: 100%|██████████| 1042/1042 [05:37<00:00,  3.09it/s, accuracy=0.413, cost=2.91]\n",
      "minibatch loop: 100%|██████████| 23/23 [00:03<00:00,  6.91it/s, accuracy=0.209, cost=4.76]\n",
      "minibatch loop:   0%|          | 0/1042 [00:00<?, ?it/s]"
     ]
    },
    {
     "name": "stdout",
     "output_type": "stream",
     "text": [
      "epoch 15, training avg loss 3.687195, training avg acc 0.300952\n",
      "epoch 15, testing avg loss 4.473650, testing avg acc 0.249692\n"
     ]
    },
    {
     "name": "stderr",
     "output_type": "stream",
     "text": [
      "minibatch loop: 100%|██████████| 1042/1042 [05:37<00:00,  3.09it/s, accuracy=0.405, cost=2.84]\n",
      "minibatch loop: 100%|██████████| 23/23 [00:03<00:00,  6.90it/s, accuracy=0.215, cost=4.74]\n",
      "minibatch loop:   0%|          | 0/1042 [00:00<?, ?it/s]"
     ]
    },
    {
     "name": "stdout",
     "output_type": "stream",
     "text": [
      "epoch 16, training avg loss 3.673392, training avg acc 0.302177\n",
      "epoch 16, testing avg loss 4.486164, testing avg acc 0.246044\n"
     ]
    },
    {
     "name": "stderr",
     "output_type": "stream",
     "text": [
      "minibatch loop: 100%|██████████| 1042/1042 [05:37<00:00,  3.09it/s, accuracy=0.418, cost=2.8] \n",
      "minibatch loop: 100%|██████████| 23/23 [00:03<00:00,  6.91it/s, accuracy=0.237, cost=4.74]\n",
      "minibatch loop:   0%|          | 0/1042 [00:00<?, ?it/s]"
     ]
    },
    {
     "name": "stdout",
     "output_type": "stream",
     "text": [
      "epoch 17, training avg loss 3.648655, training avg acc 0.305105\n",
      "epoch 17, testing avg loss 4.488136, testing avg acc 0.252109\n"
     ]
    },
    {
     "name": "stderr",
     "output_type": "stream",
     "text": [
      "minibatch loop: 100%|██████████| 1042/1042 [05:37<00:00,  3.09it/s, accuracy=0.445, cost=2.71]\n",
      "minibatch loop: 100%|██████████| 23/23 [00:03<00:00,  6.86it/s, accuracy=0.232, cost=4.7] \n",
      "minibatch loop:   0%|          | 0/1042 [00:00<?, ?it/s]"
     ]
    },
    {
     "name": "stdout",
     "output_type": "stream",
     "text": [
      "epoch 18, training avg loss 3.628495, training avg acc 0.307380\n",
      "epoch 18, testing avg loss 4.493890, testing avg acc 0.251686\n"
     ]
    },
    {
     "name": "stderr",
     "output_type": "stream",
     "text": [
      "minibatch loop: 100%|██████████| 1042/1042 [05:37<00:00,  3.09it/s, accuracy=0.432, cost=2.71]\n",
      "minibatch loop: 100%|██████████| 23/23 [00:03<00:00,  6.93it/s, accuracy=0.249, cost=4.71]\n",
      "minibatch loop:   0%|          | 0/1042 [00:00<?, ?it/s]"
     ]
    },
    {
     "name": "stdout",
     "output_type": "stream",
     "text": [
      "epoch 19, training avg loss 3.606906, training avg acc 0.309854\n",
      "epoch 19, testing avg loss 4.501904, testing avg acc 0.253285\n"
     ]
    },
    {
     "name": "stderr",
     "output_type": "stream",
     "text": [
      "minibatch loop: 100%|██████████| 1042/1042 [05:37<00:00,  3.09it/s, accuracy=0.444, cost=2.66]\n",
      "minibatch loop: 100%|██████████| 23/23 [00:03<00:00,  6.83it/s, accuracy=0.243, cost=4.78]"
     ]
    },
    {
     "name": "stdout",
     "output_type": "stream",
     "text": [
      "epoch 20, training avg loss 3.587826, training avg acc 0.312513\n",
      "epoch 20, testing avg loss 4.513405, testing avg acc 0.252812\n"
     ]
    },
    {
     "name": "stderr",
     "output_type": "stream",
     "text": [
      "\n"
     ]
    }
   ],
   "source": [
    "import tqdm\n",
    "\n",
    "for e in range(epoch):\n",
    "    pbar = tqdm.tqdm(\n",
    "        range(0, len(train_X), batch_size), desc = 'minibatch loop')\n",
    "    train_loss, train_acc, test_loss, test_acc = [], [], [], []\n",
    "    for i in pbar:\n",
    "        index = min(i + batch_size, len(train_X))\n",
    "        maxlen = max([len(s) for s in train_X[i : index] + train_Y[i : index]])\n",
    "        batch_x, seq_x = pad_sentence_batch(train_X[i : index], PAD)\n",
    "        batch_y, seq_y = pad_sentence_batch(train_Y[i : index], PAD)\n",
    "        feed = {model.X: batch_x,\n",
    "                model.Y: batch_y}\n",
    "        accuracy, loss, _ = sess.run([model.accuracy,model.cost,model.optimizer],\n",
    "                                    feed_dict = feed)\n",
    "        train_loss.append(loss)\n",
    "        train_acc.append(accuracy)\n",
    "        pbar.set_postfix(cost = loss, accuracy = accuracy)\n",
    "    \n",
    "    \n",
    "    pbar = tqdm.tqdm(\n",
    "        range(0, len(test_X), batch_size), desc = 'minibatch loop')\n",
    "    for i in pbar:\n",
    "        index = min(i + batch_size, len(test_X))\n",
    "        batch_x, seq_x = pad_sentence_batch(test_X[i : index], PAD)\n",
    "        batch_y, seq_y = pad_sentence_batch(test_Y[i : index], PAD)\n",
    "        feed = {model.X: batch_x,\n",
    "                model.Y: batch_y,}\n",
    "        accuracy, loss = sess.run([model.accuracy,model.cost],\n",
    "                                    feed_dict = feed)\n",
    "\n",
    "        test_loss.append(loss)\n",
    "        test_acc.append(accuracy)\n",
    "        pbar.set_postfix(cost = loss, accuracy = accuracy)\n",
    "    \n",
    "    print('epoch %d, training avg loss %f, training avg acc %f'%(e+1,\n",
    "                                                                 np.mean(train_loss),np.mean(train_acc)))\n",
    "    print('epoch %d, testing avg loss %f, testing avg acc %f'%(e+1,\n",
    "                                                              np.mean(test_loss),np.mean(test_acc)))"
   ]
  },
  {
   "cell_type": "code",
   "execution_count": 16,
   "metadata": {},
   "outputs": [],
   "source": [
    "rev_dictionary_to = {int(k): v for k, v in rev_dictionary_to.items()}"
   ]
  },
  {
   "cell_type": "code",
   "execution_count": 17,
   "metadata": {},
   "outputs": [
    {
     "data": {
      "text/plain": [
       "(20, 198)"
      ]
     },
     "execution_count": 17,
     "metadata": {},
     "output_type": "execute_result"
    }
   ],
   "source": [
    "test_size = 20\n",
    "\n",
    "batch_x, seq_x = pad_sentence_batch(test_X[: test_size], PAD)\n",
    "batch_y, seq_y = pad_sentence_batch(test_Y[: test_size], PAD)\n",
    "feed = {model.X: batch_x}\n",
    "logits = sess.run(model.predicting_ids, feed_dict = feed)\n",
    "logits.shape"
   ]
  },
  {
   "cell_type": "code",
   "execution_count": 18,
   "metadata": {},
   "outputs": [
    {
     "name": "stdout",
     "output_type": "stream",
     "text": [
      "0 predict: Vậy tại sao lại như vậy ? \" . \" và \" tôi đang cố gắng làm điều này . \" Tôi đã nói , \" Tôi sẽ không nói rằng , \" Tôi không biết , tôi sẽ không nói về việc làm thế nào để tạo ra những rô bốt mới . \" . . . . . . . . . . . . . . . . . . . . . . . . . . . . . . . . . . . . . . . . . . . . . . . . . . . . . . . . . . . . . . . . . . . . . . . . . . . . . . . . . . . . . . . . . . . . . . . . . . . . . . . . . . . . . . . . . . . . . . . . . . . . . . . . . . . . . . . . . . . . . . .\n",
      "0 actual: Làm sao tôi có thể trình bày trong <NUM> phút về sợi dây liên kết những người phụ nữ qua ba thế hệ , về việc làm thế nào những sợi dây mạnh mẽ đáng kinh ngạc ấy đã níu chặt lấy cuộc sống của một cô bé bốn tuổi co quắp với đứa em gái nhỏ của cô bé , với mẹ và bà trong suốt năm ngày đêm trên con thuyền nhỏ lênh đênh trên Biển Đông hơn <NUM> năm trước , những sợi dây liên kết đã níu lấy cuộc đời cô bé ấy và không bao giờ rời đi - - cô bé ấy giờ sống ở San Francisco và đang nói chuyện với các bạn hôm nay ?\n",
      "\n",
      "1 predict: Nhưng tôi đã nghĩ , tôi đã nói rằng , \" Nghe này , tôi đã gặp một người phụ nữ , tôi đã gặp nhau . \" Tôi đã nói với tôi rằng Meg Ryan không phải là một người đàn ông . \" Tôi nghĩ rằng đó là một câu chuyện . Tôi đã làm việc với tôi . \" Tôi không biết . \" Tôi không biết . \" Tôi không biết . \" Tôi không biết . \" Tôi không biết . \" Tôi không biết . \" Tôi không biết . \" Tôi không biết . \" Tôi không biết . \" Tôi không biết . \" Tôi không biết . \" Tôi không biết . \" Tôi không biết . \" Tôi không biết . \" Tôi không biết . \" Tôi không biết . \" Tôi không biết . \" Tôi không biết . \" Tôi không biết . \" Tôi không biết . \" Tôi không biết . \" Tôi không biết . \" Tôi không biết . \" Tôi không biết . \" Tôi không biết . \" Tôi không biết . \" Tôi không biết . \" Tôi\n",
      "1 actual: Câu chuyện này chưa kết thúc .\n",
      "\n",
      "2 predict: Nhưng tôi đã nghĩ , tôi đã nói rằng , \" Nghe này , tôi đã gặp một người phụ nữ , tôi đã gặp nhau . \" Tôi đã nói với tôi rằng Meg Ryan không phải là một người đàn ông . \" Tôi nghĩ rằng đó là một câu chuyện . Tôi đã làm việc với tôi . \" Tôi không biết . \" Tôi không biết . \" Tôi không biết . \" Tôi không biết . \" Tôi không biết . \" Tôi không biết . \" Tôi không biết . \" Tôi không biết . \" Tôi không biết . \" Tôi không biết . \" Tôi không biết . \" Tôi không biết . \" Tôi không biết . \" Tôi không biết . \" Tôi không biết . \" Tôi không biết . \" Tôi không biết . \" Tôi không biết . \" Tôi không biết . \" Tôi không biết . \" Tôi không biết . \" Tôi không biết . \" Tôi không biết . \" Tôi không biết . \" Tôi không biết . \" Tôi không biết . \" Tôi không biết . \" Tôi\n",
      "2 actual: Nó là một trò chơi ghép hình vẫn đang được xếp .\n",
      "\n",
      "3 predict: Chúng ta có thể làm gì ? \" \" Tôi không biết . \" Tôi không biết . \" Tôi không biết . \" Tôi không biết . \" Tôi không biết . \" Tôi không biết . \" Tôi không biết . \" Tôi không biết . \" Tôi không biết . \" Tôi không biết . \" Tôi không biết . \" Tôi không biết . \" Tôi không biết . \" Tôi không biết . \" Tôi không biết . \" Tôi không biết . \" Tôi không biết . \" Tôi không biết . \" Tôi không biết . \" Tôi không biết . \" Tôi không biết . \" Tôi không biết . \" Tôi không biết . \" Tôi không biết . \" Tôi không biết . \" Tôi không biết . \" Tôi không biết . \" Tôi không biết . \" Tôi không biết . \" Tôi không biết . \" Tôi không biết . \" Tôi không biết . \" Tôi không biết . \" Tôi không biết . \" Tôi không biết . \" Tôi không biết . \" Tôi không biết . \" Tôi không biết .\n",
      "3 actual: Hãy để tôi kể cho các bạn về vài mảnh ghép nhé .\n",
      "\n",
      "4 predict: Chúng ta có thể làm được điều này . \" Tôi không biết . \" Tôi không biết . \" Tôi không biết . \" Tôi không biết . \" Tôi không biết . \" Tôi không biết . \" Tôi không biết . \" Tôi không biết . \" Tôi không biết . \" Tôi không biết . \" Tôi không biết . \" Tôi không biết . \" Tôi không biết . \" Tôi không biết . \" Tôi không biết . \" Tôi không biết . \" Tôi không biết . \" Tôi không biết . \" Tôi không biết . \" Tôi không biết . \" Tôi không biết . \" Tôi không biết . \" Tôi không biết . \" Tôi không biết . \" Tôi không biết . \" Tôi không biết . \" Tôi không biết . \" Tôi không biết . \" Tôi không biết . \" Tôi không biết . \" Tôi không biết . \" Tôi không biết . \" Tôi không biết . \" Tôi không biết . \" Tôi không biết . \" Tôi không biết . \" Tôi không biết . \" Tôi không biết\n",
      "4 actual: Hãy tưởng tượng mảnh đầu tiên : một người đàn ông đốt cháy sự nghiệp cả đời mình .\n",
      "\n",
      "5 predict: Tôi đã làm việc với tôi . \" Tôi không biết . \" Tôi không biết . \" Tôi không biết . \" Tôi không biết . \" Tôi không biết . \" Tôi không biết . \" Tôi không biết . \" Tôi không biết . \" Tôi không biết . \" Tôi không biết . \" Tôi không biết . \" Tôi không biết . \" Tôi không biết . \" Tôi không biết . \" Tôi không biết . \" Tôi không biết . \" Tôi không biết . \" Tôi không biết . \" Tôi không biết . \" Tôi không biết . \" Tôi không biết . \" Tôi không biết . \" Tôi không biết . \" Tôi không biết . \" Tôi không biết . \" Tôi không biết . \" Tôi không biết . \" Tôi không biết . \" Tôi không biết . \" Tôi không biết . \" Tôi không biết . \" Tôi không biết . \" Tôi không biết . \" Tôi không biết . \" Tôi không biết . \" Tôi không biết . \" Tôi không biết . \" Tôi không biết . \"\n",
      "5 actual: Ông là nhà thơ , nhà viết kịch , một người mà cả cuộc đời chênh vênh trên tia hi vọng duy nhất rằng đất nước ông sẽ độc lập tự do .\n",
      "\n",
      "6 predict: Chúng ta có thể làm được điều này . \" Tôi không biết . \" Tôi không biết . \" Tôi không biết . \" Tôi không biết . \" Tôi không biết . \" Tôi không biết . \" Tôi không biết . \" Tôi không biết . \" Tôi không biết . \" Tôi không biết . \" Tôi không biết . \" Tôi không biết . \" Tôi không biết . \" Tôi không biết . \" Tôi không biết . \" Tôi không biết . \" Tôi không biết . \" Tôi không biết . \" Tôi không biết . \" Tôi không biết . \" Tôi không biết . \" Tôi không biết . \" Tôi không biết . \" Tôi không biết . \" Tôi không biết . \" Tôi không biết . \" Tôi không biết . \" Tôi không biết . \" Tôi không biết . \" Tôi không biết . \" Tôi không biết . \" Tôi không biết . \" Tôi không biết . \" Tôi không biết . \" Tôi không biết . \" Tôi không biết . \" Tôi không biết . \" Tôi không biết\n",
      "6 actual: Hãy tưởng tượng ông , một người cộng sản tiến vào , đối diện sự thật rằng cả cuộc đời ông đã phí hoài .\n",
      "\n",
      "7 predict: Chúng ta có thể làm gì ? \" \" Tôi không biết . \" Tôi không biết . \" Tôi không biết . \" Tôi không biết . \" Tôi không biết . \" Tôi không biết . \" Tôi không biết . \" Tôi không biết . \" Tôi không biết . \" Tôi không biết . \" Tôi không biết . \" Tôi không biết . \" Tôi không biết . \" Tôi không biết . \" Tôi không biết . \" Tôi không biết . \" Tôi không biết . \" Tôi không biết . \" Tôi không biết . \" Tôi không biết . \" Tôi không biết . \" Tôi không biết . \" Tôi không biết . \" Tôi không biết . \" Tôi không biết . \" Tôi không biết . \" Tôi không biết . \" Tôi không biết . \" Tôi không biết . \" Tôi không biết . \" Tôi không biết . \" Tôi không biết . \" Tôi không biết . \" Tôi không biết . \" Tôi không biết . \" Tôi không biết . \" Tôi không biết . \" Tôi không biết .\n",
      "7 actual: Ngôn từ , qua bao năm tháng là bạn đồng hành với ông , giờ quay ra chế giễu ông .\n",
      "\n",
      "8 predict: Tôi đã gặp nhiều người ở đây , tôi đã gặp nhau . Tôi đã làm việc với một nhóm người . Và tôi đã làm việc cùng với đội của mình , và tôi đã làm việc cùng với đội của mình , và tôi đã làm việc cùng với đội của mình , và tôi đã làm việc cùng với đội của mình , và tôi đã làm việc cùng với đội của mình , và tôi đã làm việc cùng với đội của mình , và tôi đã làm việc cùng với đội của mình , và tôi đã làm việc cùng với đội của mình , và tôi đã làm việc cùng với đội của mình , và tôi đã làm việc cùng với đội của mình , và tôi đã làm việc cùng với đội của mình , và tôi đã làm việc cùng với đội của mình , và tôi đã làm việc cùng với đội của mình , và tôi đã làm việc cùng với đội của mình , và tôi đã làm việc cùng với đội của mình , và tôi đã làm việc cùng với đội của mình ,\n",
      "8 actual: Ông rút lui vào yên lặng .\n",
      "\n",
      "9 predict: Tôi đã gặp nhiều người ở đây , tôi đã gặp nhau . Tôi đã làm việc với một nhóm người . Và tôi đã làm việc cùng với đội của mình , và tôi đã làm việc cùng với đội của mình , và tôi đã làm việc cùng với đội của mình , và tôi đã làm việc cùng với đội của mình , và tôi đã làm việc cùng với đội của mình , và tôi đã làm việc cùng với đội của mình , và tôi đã làm việc cùng với đội của mình , và tôi đã làm việc cùng với đội của mình , và tôi đã làm việc cùng với đội của mình , và tôi đã làm việc cùng với đội của mình , và tôi đã làm việc cùng với đội của mình , và tôi đã làm việc cùng với đội của mình , và tôi đã làm việc cùng với đội của mình , và tôi đã làm việc cùng với đội của mình , và tôi đã làm việc cùng với đội của mình , và tôi đã làm việc cùng với đội của mình ,\n",
      "9 actual: Ông qua đời , bị lịch sử quật ngã .\n",
      "\n",
      "10 predict: Tôi đã gặp nhiều người ở đây , tôi đã gặp nhau . Tôi đã làm việc với một nhóm người . Và tôi đã làm việc cùng với đội của mình , và tôi đã làm việc cùng với đội của mình , và tôi đã làm việc cùng với đội của mình , và tôi đã làm việc cùng với đội của mình , và tôi đã làm việc cùng với đội của mình , và tôi đã làm việc cùng với đội của mình , và tôi đã làm việc cùng với đội của mình , và tôi đã làm việc cùng với đội của mình , và tôi đã làm việc cùng với đội của mình , và tôi đã làm việc cùng với đội của mình , và tôi đã làm việc cùng với đội của mình , và tôi đã làm việc cùng với đội của mình , và tôi đã làm việc cùng với đội của mình , và tôi đã làm việc cùng với đội của mình , và tôi đã làm việc cùng với đội của mình , và tôi đã làm việc cùng với đội của mình ,\n",
      "10 actual: Ông là ông của tôi .\n",
      "\n",
      "11 predict: Tôi đã gặp nhiều người ở đây , tôi đã gặp nhau . Tôi đã làm việc với một nhóm người . Và tôi đã làm việc cùng với đội của mình , và tôi đã làm việc cùng với đội của mình , và tôi đã làm việc cùng với đội của mình , và tôi đã làm việc cùng với đội của mình , và tôi đã làm việc cùng với đội của mình , và tôi đã làm việc cùng với đội của mình , và tôi đã làm việc cùng với đội của mình , và tôi đã làm việc cùng với đội của mình , và tôi đã làm việc cùng với đội của mình , và tôi đã làm việc cùng với đội của mình , và tôi đã làm việc cùng với đội của mình , và tôi đã làm việc cùng với đội của mình , và tôi đã làm việc cùng với đội của mình , và tôi đã làm việc cùng với đội của mình , và tôi đã làm việc cùng với đội của mình , và tôi đã làm việc cùng với đội của mình ,\n",
      "11 actual: Tôi chưa bao giờ gặp ông ngoài đời .\n",
      "\n",
      "12 predict: Nhưng tôi đã nghĩ , tôi đã nói rằng , \" Nghe này , tôi đã gặp một người phụ nữ , tôi đã gặp nhau . \" Tôi đã nói với tôi rằng Meg Ryan không phải là một người đàn ông . \" Tôi nghĩ rằng đó là một câu chuyện . Tôi đã làm việc với tôi . \" Tôi không biết . \" Tôi không biết . \" Tôi không biết . \" Tôi không biết . \" Tôi không biết . \" Tôi không biết . \" Tôi không biết . \" Tôi không biết . \" Tôi không biết . \" Tôi không biết . \" Tôi không biết . \" Tôi không biết . \" Tôi không biết . \" Tôi không biết . \" Tôi không biết . \" Tôi không biết . \" Tôi không biết . \" Tôi không biết . \" Tôi không biết . \" Tôi không biết . \" Tôi không biết . \" Tôi không biết . \" Tôi không biết . \" Tôi không biết . \" Tôi không biết . \" Tôi không biết . \" Tôi không biết . \" Tôi\n",
      "12 actual: Nhưng cuộc đời ta nhiều hơn những gì ta lưu trong kí ức nhiều .\n",
      "\n",
      "13 predict: Nhưng tôi đã nghĩ , tôi đã nói rằng , \" Nghe này , tôi đã gặp một người phụ nữ , tôi đã gặp nhau . \" Tôi đã nói với tôi rằng Meg Ryan không phải là một người đàn ông . \" Tôi nghĩ rằng đó là một câu chuyện . Tôi đã làm việc với tôi . \" Tôi không biết . \" Tôi không biết . \" Tôi không biết . \" Tôi không biết . \" Tôi không biết . \" Tôi không biết . \" Tôi không biết . \" Tôi không biết . \" Tôi không biết . \" Tôi không biết . \" Tôi không biết . \" Tôi không biết . \" Tôi không biết . \" Tôi không biết . \" Tôi không biết . \" Tôi không biết . \" Tôi không biết . \" Tôi không biết . \" Tôi không biết . \" Tôi không biết . \" Tôi không biết . \" Tôi không biết . \" Tôi không biết . \" Tôi không biết . \" Tôi không biết . \" Tôi không biết . \" Tôi không biết . \" Tôi\n",
      "13 actual: Bà tôi chưa bao giờ cho phép tôi quên cuộc đời của ông .\n",
      "\n",
      "14 predict: Nhưng tôi đã nghĩ , tôi đã nói rằng , \" Nghe này , tôi đã gặp một người phụ nữ , tôi đã gặp nhau . \" Tôi đã nói với tôi rằng Meg Ryan không phải là một người đàn ông . \" Tôi nghĩ rằng đó là một câu chuyện . Tôi đã làm việc với tôi . \" Tôi không biết . \" Tôi không biết . \" Tôi không biết . \" Tôi không biết . \" Tôi không biết . \" Tôi không biết . \" Tôi không biết . \" Tôi không biết . \" Tôi không biết . \" Tôi không biết . \" Tôi không biết . \" Tôi không biết . \" Tôi không biết . \" Tôi không biết . \" Tôi không biết . \" Tôi không biết . \" Tôi không biết . \" Tôi không biết . \" Tôi không biết . \" Tôi không biết . \" Tôi không biết . \" Tôi không biết . \" Tôi không biết . \" Tôi không biết . \" Tôi không biết . \" Tôi không biết . \" Tôi không biết . \" Tôi\n",
      "14 actual: Nhiệm vụ của tôi là không để cuộc đời ấy qua trong vô vọng , và bài học của tôi là nhận ra rằng , vâng , lịch sử đã cố quật ngã chúng tôi , nhưng chúng tôi đã chịu đựng được .\n",
      "\n",
      "15 predict: Tôi đã làm việc với tôi . \" Tôi không biết . \" Tôi không biết . \" Tôi không biết . \" Tôi không biết . \" Tôi không biết . \" Tôi không biết . \" Tôi không biết . \" Tôi không biết . \" Tôi không biết . \" Tôi không biết . \" Tôi không biết . \" Tôi không biết . \" Tôi không biết . \" Tôi không biết . \" Tôi không biết . \" Tôi không biết . \" Tôi không biết . \" Tôi không biết . \" Tôi không biết . \" Tôi không biết . \" Tôi không biết . \" Tôi không biết . \" Tôi không biết . \" Tôi không biết . \" Tôi không biết . \" Tôi không biết . \" Tôi không biết . \" Tôi không biết . \" Tôi không biết . \" Tôi không biết . \" Tôi không biết . \" Tôi không biết . \" Tôi không biết . \" Tôi không biết . \" Tôi không biết . \" Tôi không biết . \" Tôi không biết . \" Tôi không biết . \"\n",
      "15 actual: Mảnh ghép tiếp theo của tấm hình là một con thuyền trong sớm hoàng hôn lặng lẽ trườn ra biển .\n",
      "\n",
      "16 predict: Nhưng tôi đã nghĩ , tôi đã nói rằng , \" Nghe này , tôi đã gặp một người phụ nữ , tôi đã gặp nhau . \" Tôi đã nói với tôi rằng Meg Ryan không phải là một người đàn ông . \" Tôi nghĩ rằng đó là một câu chuyện . Tôi đã làm việc với tôi . \" Tôi không biết . \" Tôi không biết . \" Tôi không biết . \" Tôi không biết . \" Tôi không biết . \" Tôi không biết . \" Tôi không biết . \" Tôi không biết . \" Tôi không biết . \" Tôi không biết . \" Tôi không biết . \" Tôi không biết . \" Tôi không biết . \" Tôi không biết . \" Tôi không biết . \" Tôi không biết . \" Tôi không biết . \" Tôi không biết . \" Tôi không biết . \" Tôi không biết . \" Tôi không biết . \" Tôi không biết . \" Tôi không biết . \" Tôi không biết . \" Tôi không biết . \" Tôi không biết . \" Tôi không biết . \" Tôi\n",
      "16 actual: Mẹ tôi , Mai , mới <NUM> tuổi khi ba của mẹ mất - - đã lập gia đình , một cuộc hôn nhân sắp đặt trước , đã có hai cô con gái nhỏ .\n",
      "\n",
      "17 predict: Tôi đã gặp nhiều người ở đây , tôi đã gặp nhau . Tôi đã làm việc với một nhóm người . Và tôi đã làm việc cùng với đội của mình , và tôi đã làm việc cùng với đội của mình , và tôi đã làm việc cùng với đội của mình , và tôi đã làm việc cùng với đội của mình , và tôi đã làm việc cùng với đội của mình , và tôi đã làm việc cùng với đội của mình , và tôi đã làm việc cùng với đội của mình , và tôi đã làm việc cùng với đội của mình , và tôi đã làm việc cùng với đội của mình , và tôi đã làm việc cùng với đội của mình , và tôi đã làm việc cùng với đội của mình , và tôi đã làm việc cùng với đội của mình , và tôi đã làm việc cùng với đội của mình , và tôi đã làm việc cùng với đội của mình , và tôi đã làm việc cùng với đội của mình , và tôi đã làm việc cùng với đội của mình ,\n",
      "17 actual: Với mẹ , cuộc đời cô đọng vào nhiệm vụ duy nhất : để gia đình mẹ trốn thoát và bắt đầu cuộc sống mới ở Úc .\n",
      "\n",
      "18 predict: Nhưng tôi đã nghĩ , tôi đã nói rằng , \" Nghe này , tôi đã gặp một người phụ nữ , tôi đã gặp nhau . \" Tôi đã nói với tôi rằng Meg Ryan không phải là một người đàn ông . \" Tôi nghĩ rằng đó là một câu chuyện . Tôi đã làm việc với tôi . \" Tôi không biết . \" Tôi không biết . \" Tôi không biết . \" Tôi không biết . \" Tôi không biết . \" Tôi không biết . \" Tôi không biết . \" Tôi không biết . \" Tôi không biết . \" Tôi không biết . \" Tôi không biết . \" Tôi không biết . \" Tôi không biết . \" Tôi không biết . \" Tôi không biết . \" Tôi không biết . \" Tôi không biết . \" Tôi không biết . \" Tôi không biết . \" Tôi không biết . \" Tôi không biết . \" Tôi không biết . \" Tôi không biết . \" Tôi không biết . \" Tôi không biết . \" Tôi không biết . \" Tôi không biết . \" Tôi\n",
      "18 actual: Mẹ không bao giờ chấp nhận được là mẹ sẽ không thành công .\n",
      "\n",
      "19 predict: Chúng ta có thể làm gì ? \" \" Tôi không biết . \" Tôi không biết . \" Tôi không biết . \" Tôi không biết . \" Tôi không biết . \" Tôi không biết . \" Tôi không biết . \" Tôi không biết . \" Tôi không biết . \" Tôi không biết . \" Tôi không biết . \" Tôi không biết . \" Tôi không biết . \" Tôi không biết . \" Tôi không biết . \" Tôi không biết . \" Tôi không biết . \" Tôi không biết . \" Tôi không biết . \" Tôi không biết . \" Tôi không biết . \" Tôi không biết . \" Tôi không biết . \" Tôi không biết . \" Tôi không biết . \" Tôi không biết . \" Tôi không biết . \" Tôi không biết . \" Tôi không biết . \" Tôi không biết . \" Tôi không biết . \" Tôi không biết . \" Tôi không biết . \" Tôi không biết . \" Tôi không biết . \" Tôi không biết . \" Tôi không biết . \" Tôi không biết .\n",
      "19 actual: Thế là sau bốn năm , một trường thiên đằng đẵng hơn cả trong truyện , một chiếc thuyền trườn ra biển nguỵ trang là thuyền đánh cá .\n",
      "\n"
     ]
    }
   ],
   "source": [
    "rejected = ['PAD', 'EOS', 'UNK', 'GO']\n",
    "\n",
    "for i in range(test_size):\n",
    "    predict = [rev_dictionary_to[i] for i in logits[i] if rev_dictionary_to[i] not in rejected]\n",
    "    actual = [rev_dictionary_to[i] for i in batch_y[i] if rev_dictionary_to[i] not in rejected]\n",
    "    print(i, 'predict:', ' '.join(predict))\n",
    "    print(i, 'actual:', ' '.join(actual))\n",
    "    print()"
   ]
  },
  {
   "cell_type": "code",
   "execution_count": null,
   "metadata": {},
   "outputs": [],
   "source": []
  }
 ],
 "metadata": {
  "kernelspec": {
   "display_name": "Python 3",
   "language": "python",
   "name": "python3"
  },
  "language_info": {
   "codemirror_mode": {
    "name": "ipython",
    "version": 3
   },
   "file_extension": ".py",
   "mimetype": "text/x-python",
   "name": "python",
   "nbconvert_exporter": "python",
   "pygments_lexer": "ipython3",
   "version": "3.6.8"
  }
 },
 "nbformat": 4,
 "nbformat_minor": 2
}
